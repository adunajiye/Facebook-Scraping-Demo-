{
 "cells": [
  {
   "cell_type": "code",
   "execution_count": 1,
   "id": "0b33f203",
   "metadata": {},
   "outputs": [],
   "source": [
    "import facebook\n",
    "import json\n",
    "import pandas as pd \n",
    "import numpy as np\n",
    "from  matplotlib import pyplot as plt \n",
    "from prettytable import prettytable\n",
    "import requests\n"
   ]
  },
  {
   "cell_type": "code",
   "execution_count": 10,
   "id": "697223f7",
   "metadata": {},
   "outputs": [],
   "source": [
    "# Assign class defined to new page access_token  \n",
    "def page_token():\n",
    "    the_url = 'https://graph.facebook.com/me/accounts'\n",
    "    response = requests.get(the_url,headers = {\n",
    "        'Authorization':'Bearer ' + 'EAAHowf2c61MBAGcpenyioiKiySNjixNIONtZB29hItATRz6Re5VTf0mqjpeFQSs8xftUzjlh9j3pUxm6cQ0mzUrf0Ymi8oyOpIn0oCLjuyCfe0Fdbqh4cE2nw7IOAOf8cZA07onmkdoASfVzgzfq4baS04iOMzD20w3juT0gZDZD',\n",
    "        'Content-Type':'application/json'\n",
    "    })\n",
    "# Generate Access Token For Multiple Use\n",
    "    response_data = json.loads(response.text)\n",
    "# Allow access \n",
    "    for i in response_data['data']:\n",
    "        data = i['access_token']\n",
    "    return data"
   ]
  },
  {
   "cell_type": "code",
   "execution_count": 8,
   "id": "a9481b78",
   "metadata": {},
   "outputs": [
    {
     "name": "stdout",
     "output_type": "stream",
     "text": [
      "{'data': [{'access_token': 'EAAHowf2c61MBAPggb7MX1Kpam0oo9mLrrrJD1Vjs19MrED19gcaF3ohcx6CqbaSbZC8HSFcrNbKsV0OMSZA9bOvaOD6L7P4bw5ewDcbecZAKmLVZBuMa1t5RygXyLeZANL85n6der7WJzzCXmO0Kh8Hxn9J2lq09UfZAIqewZBvSIO7kZBE9UMlm', 'category': 'Motivational speaker', 'category_list': [{'id': '1720316034885300', 'name': 'Motivational speaker'}, {'id': '187714557925874', 'name': 'Religious organisation'}, {'id': '192134360811676', 'name': 'Church'}], 'name': \"God's Generals Channel\", 'id': '105972358406554', 'tasks': ['ANALYZE', 'ADVERTISE', 'MESSAGING', 'MODERATE', 'CREATE_CONTENT', 'MANAGE']}], 'paging': {'cursors': {'before': 'MTA1OTcyMzU4NDA2NTU0', 'after': 'MTA1OTcyMzU4NDA2NTU0'}}}\n"
     ]
    }
   ],
   "source": [
    "# print token\n",
    "# Page Id = 105972358406554\n",
    "# App Id = 537394857962323\n",
    "print(page_token())"
   ]
  },
  {
   "cell_type": "code",
   "execution_count": 11,
   "id": "bb3dd259",
   "metadata": {},
   "outputs": [
    {
     "name": "stdout",
     "output_type": "stream",
     "text": [
      "EAAHowf2c61MBADzHnmdzlKjE6xfJCVXZAOLWl88xOH6uH0Abu4AWtkGVHpl4mZBurxZBRtTkhb4AOi4qx9LUuGqPP4LOXZCmRtyS8N2pdJZAZCZCu3ZBocIReIbfvESuJMlq1qtu02UseNQ7VNwE8jZCmy9AIHn2bWJX60r3soc4ZCKOziyZCX8ZBLzX\n"
     ]
    }
   ],
   "source": [
    "# Generate Access Token For Multiple Uses \n",
    "print(page_token())"
   ]
  },
  {
   "cell_type": "code",
   "execution_count": 17,
   "id": "90f6b68d",
   "metadata": {},
   "outputs": [],
   "source": [
    "# Total Reactions \n",
    "total_reaction = []# :format{'for the day'}\n",
    "def total_reactions():\n",
    "# Generate a link for access to the facebook Api\n",
    "    #page_id = 105972358406554\n",
    "    #App_Id = 537394857962323\n",
    "    url = 'https://graph.facebook.com/105972358406554/insights?metric= page_actions_post_reactions_total&since=2021-10-16&until=2021-12-31'\n",
    "    data = requests.get(url,\n",
    "                      headers={\n",
    "                        'Authorization':'Bearer' + page_token(),\n",
    "                        'Content-Type':'application/json'\n",
    "                      })\n",
    "    tot_reaction = json.loads(data.text)\n",
    "    total_reaction.append(tot_reaction)\n",
    "    "
   ]
  },
  {
   "cell_type": "code",
   "execution_count": 16,
   "id": "a02a6780",
   "metadata": {},
   "outputs": [
    {
     "name": "stdout",
     "output_type": "stream",
     "text": [
      "None\n"
     ]
    }
   ],
   "source": [
    "print(total_reactions())"
   ]
  },
  {
   "cell_type": "code",
   "execution_count": 18,
   "id": "6a46d203",
   "metadata": {},
   "outputs": [
    {
     "data": {
      "text/plain": [
       "[]"
      ]
     },
     "execution_count": 18,
     "metadata": {},
     "output_type": "execute_result"
    }
   ],
   "source": [
    "total_reaction"
   ]
  },
  {
   "cell_type": "code",
   "execution_count": 178,
   "id": "273f3a8c",
   "metadata": {},
   "outputs": [],
   "source": [
    "# Total Number of Post \n",
    "Total_like= []\n",
    "def total_likes():\n",
    "    post_url = 'https://graph.facebook.com/537394857962323/insights?metric =page_total_actions&since=2022-02-01&until=2022-02-28'\n",
    "    data1 = requests.get(post_url,\n",
    "                        headers = {\n",
    "                            'Authorization':'Bearer' + page_token(),\n",
    "                            'Content-Type':'application/json'\n",
    "                      })\n",
    "    tot_like = json.loads(data1.csv)\n",
    "    total_like.append(tot_like)\n",
    "                       "
   ]
  },
  {
   "cell_type": "code",
   "execution_count": 175,
   "id": "4134ea15",
   "metadata": {},
   "outputs": [],
   "source": [
    "total_likes()"
   ]
  },
  {
   "cell_type": "code",
   "execution_count": 180,
   "id": "31404dc9",
   "metadata": {},
   "outputs": [
    {
     "data": {
      "text/plain": [
       "[]"
      ]
     },
     "execution_count": 180,
     "metadata": {},
     "output_type": "execute_result"
    }
   ],
   "source": [
    "Total_like"
   ]
  },
  {
   "cell_type": "code",
   "execution_count": null,
   "id": "655becd6",
   "metadata": {},
   "outputs": [],
   "source": []
  }
 ],
 "metadata": {
  "kernelspec": {
   "display_name": "Python 3 (ipykernel)",
   "language": "python",
   "name": "python3"
  },
  "language_info": {
   "codemirror_mode": {
    "name": "ipython",
    "version": 3
   },
   "file_extension": ".py",
   "mimetype": "text/x-python",
   "name": "python",
   "nbconvert_exporter": "python",
   "pygments_lexer": "ipython3",
   "version": "3.10.2"
  }
 },
 "nbformat": 4,
 "nbformat_minor": 5
}
